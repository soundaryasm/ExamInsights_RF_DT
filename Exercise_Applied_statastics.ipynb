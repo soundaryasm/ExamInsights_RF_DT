{
  "nbformat": 4,
  "nbformat_minor": 0,
  "metadata": {
    "colab": {
      "private_outputs": true,
      "provenance": []
    },
    "kernelspec": {
      "name": "python3",
      "display_name": "Python 3"
    },
    "language_info": {
      "name": "python"
    }
  },
  "cells": [
    {
      "cell_type": "code",
      "source": [
        "from pandas import read_csv,get_dummies,DataFrame,Series\n",
        "from sklearn.preprocessing import StandardScaler\n",
        "from sklearn.model_selection import train_test_split\n",
        "from sklearn.linear_model import LogisticRegression\n",
        "from sklearn.metrics import accuracy_score,confusion_matrix,classification_report\n",
        "from sklearn import tree,metrics\n",
        "from imblearn.over_sampling import SMOTE\n",
        "from sklearn.model_selection import GridSearchCV\n",
        "from sklearn.ensemble import RandomForestClassifier\n",
        "from sklearn import ensemble\n",
        "import numpy as np"
      ],
      "metadata": {
        "id": "_vskWjqblY1s"
      },
      "execution_count": null,
      "outputs": []
    },
    {
      "cell_type": "code",
      "execution_count": null,
      "metadata": {
        "id": "X7KJoOH5k9Xs"
      },
      "outputs": [],
      "source": [
        "data=read_csv('/content/exams.csv')"
      ]
    },
    {
      "cell_type": "code",
      "source": [
        "data.head(3)"
      ],
      "metadata": {
        "id": "wa0ZUlm2lf2P"
      },
      "execution_count": null,
      "outputs": []
    },
    {
      "cell_type": "code",
      "source": [
        "print(data.isnull().sum())"
      ],
      "metadata": {
        "id": "zqt6K159lxfQ"
      },
      "execution_count": null,
      "outputs": []
    },
    {
      "cell_type": "code",
      "source": [
        "data['math score'] = data['math score'].fillna(data['math score'].mean())\n",
        "print(data.isnull().sum())"
      ],
      "metadata": {
        "id": "hSMQNVBlmOuZ"
      },
      "execution_count": null,
      "outputs": []
    },
    {
      "cell_type": "code",
      "source": [
        "data['gender'].unique()"
      ],
      "metadata": {
        "id": "_qZczySEn1LB"
      },
      "execution_count": null,
      "outputs": []
    },
    {
      "cell_type": "code",
      "source": [
        "data['race/ethnicity'].unique()"
      ],
      "metadata": {
        "id": "WxZHBIcCoOlq"
      },
      "execution_count": null,
      "outputs": []
    },
    {
      "cell_type": "code",
      "source": [
        "data['parental level of education'].unique()"
      ],
      "metadata": {
        "id": "sLIsup_noiVq"
      },
      "execution_count": null,
      "outputs": []
    },
    {
      "cell_type": "code",
      "source": [
        "data['lunch'].unique()"
      ],
      "metadata": {
        "id": "ss_bzOW5omaj"
      },
      "execution_count": null,
      "outputs": []
    },
    {
      "cell_type": "code",
      "source": [
        "data['test preparation course'].unique()"
      ],
      "metadata": {
        "id": "Bg2eTt6_oobl"
      },
      "execution_count": null,
      "outputs": []
    },
    {
      "cell_type": "code",
      "source": [
        "data['math score'].unique()"
      ],
      "metadata": {
        "id": "qm78JCUVovjL"
      },
      "execution_count": null,
      "outputs": []
    },
    {
      "cell_type": "code",
      "source": [
        "data['reading score'].unique()"
      ],
      "metadata": {
        "id": "LL9KI4r0oyFj"
      },
      "execution_count": null,
      "outputs": []
    },
    {
      "cell_type": "code",
      "source": [
        "data['writing score'].unique()"
      ],
      "metadata": {
        "id": "azUdSsOmo0ZT"
      },
      "execution_count": null,
      "outputs": []
    },
    {
      "cell_type": "code",
      "source": [
        "data['gender']=data['gender'].map({'male':0,'female':1})"
      ],
      "metadata": {
        "id": "tv0yYJ3eo9KP"
      },
      "execution_count": null,
      "outputs": []
    },
    {
      "cell_type": "code",
      "source": [
        "data['lunch']=data['lunch'].map({'free/reduced':0,'standard':1})"
      ],
      "metadata": {
        "id": "MI0ECdnJpuIf"
      },
      "execution_count": null,
      "outputs": []
    },
    {
      "cell_type": "code",
      "source": [
        "data['test preparation course']=data['test preparation course'].map({'none':0,'completed':1})"
      ],
      "metadata": {
        "id": "e318p-tupxr8"
      },
      "execution_count": null,
      "outputs": []
    },
    {
      "cell_type": "code",
      "source": [
        "data.head(3)"
      ],
      "metadata": {
        "id": "BafjrBXZp0Br"
      },
      "execution_count": null,
      "outputs": []
    },
    {
      "cell_type": "code",
      "source": [
        "features=['race/ethnicity','parental level of education']\n",
        "data2=get_dummies(data,columns=features)\n",
        "data2.head(3)"
      ],
      "metadata": {
        "id": "gtGfN42pp-lx"
      },
      "execution_count": null,
      "outputs": []
    },
    {
      "cell_type": "code",
      "source": [
        "data2.info()"
      ],
      "metadata": {
        "id": "DMpfuTP1qtZW"
      },
      "execution_count": null,
      "outputs": []
    },
    {
      "cell_type": "code",
      "source": [
        "data2.to_csv('Exam_cleansed.csv')"
      ],
      "metadata": {
        "id": "__U0RnDBrAhM"
      },
      "execution_count": null,
      "outputs": []
    },
    {
      "cell_type": "code",
      "source": [
        "Y=data2['test preparation course']\n",
        "X=data2.drop(['test preparation course'],axis=1)"
      ],
      "metadata": {
        "id": "UPFIh_qrrQkc"
      },
      "execution_count": null,
      "outputs": []
    },
    {
      "cell_type": "code",
      "source": [
        "Y.shape"
      ],
      "metadata": {
        "id": "6_kvkI9erZI-"
      },
      "execution_count": null,
      "outputs": []
    },
    {
      "cell_type": "code",
      "source": [
        "X.shape"
      ],
      "metadata": {
        "id": "TQnOgTzRrcw_"
      },
      "execution_count": null,
      "outputs": []
    },
    {
      "cell_type": "code",
      "source": [
        "X_scaled=StandardScaler().fit_transform(X)"
      ],
      "metadata": {
        "id": "eiTxDqW5rfeI"
      },
      "execution_count": null,
      "outputs": []
    },
    {
      "cell_type": "code",
      "source": [
        "X_train,X_test,Y_train,Y_test=train_test_split(X_scaled,Y,test_size=0.2,random_state=1)"
      ],
      "metadata": {
        "id": "0yE894wKsNln"
      },
      "execution_count": null,
      "outputs": []
    },
    {
      "cell_type": "code",
      "source": [
        "X_train.shape"
      ],
      "metadata": {
        "id": "tX3Q-6X_sS9l"
      },
      "execution_count": null,
      "outputs": []
    },
    {
      "cell_type": "code",
      "source": [
        "Y_train.shape"
      ],
      "metadata": {
        "id": "H6tZnadosVPH"
      },
      "execution_count": null,
      "outputs": []
    },
    {
      "cell_type": "code",
      "source": [
        "Y_train.value_counts()"
      ],
      "metadata": {
        "id": "cdJOnQRYsa24"
      },
      "execution_count": null,
      "outputs": []
    },
    {
      "cell_type": "code",
      "source": [
        "smote=SMOTE(random_state=1)\n",
        "X_train,Y_train=smote.fit_resample(X_train,Y_train)"
      ],
      "metadata": {
        "id": "u_iQEiEnuAO2"
      },
      "execution_count": null,
      "outputs": []
    },
    {
      "cell_type": "code",
      "source": [
        "Y_train.value_counts()"
      ],
      "metadata": {
        "id": "tKeGoXFnvuUW"
      },
      "execution_count": null,
      "outputs": []
    },
    {
      "cell_type": "code",
      "source": [
        "dec_tree=tree.DecisionTreeClassifier(criterion='entropy',max_depth=5)"
      ],
      "metadata": {
        "id": "YNE_A7xgxEvx"
      },
      "execution_count": null,
      "outputs": []
    },
    {
      "cell_type": "code",
      "source": [
        "dec_tree.fit(X_train,Y_train)"
      ],
      "metadata": {
        "id": "KTXIaSS-zSA1"
      },
      "execution_count": null,
      "outputs": []
    },
    {
      "cell_type": "code",
      "source": [
        "Y_pred=dec_tree.predict(X_test)"
      ],
      "metadata": {
        "id": "1wvyyE8ozVlu"
      },
      "execution_count": null,
      "outputs": []
    },
    {
      "cell_type": "code",
      "source": [
        "accuracy_score(Y_test,Y_pred)"
      ],
      "metadata": {
        "id": "QG0o1Ym6zkd7"
      },
      "execution_count": null,
      "outputs": []
    },
    {
      "cell_type": "code",
      "source": [
        "precision=metrics.precision_score(Y_test,Y_pred)\n",
        "precision"
      ],
      "metadata": {
        "id": "w6HC7lBN0mSQ"
      },
      "execution_count": null,
      "outputs": []
    },
    {
      "cell_type": "code",
      "source": [
        "Recall=metrics.recall_score(Y_test,Y_pred)\n",
        "Recall"
      ],
      "metadata": {
        "id": "6eTDxYY20s-L"
      },
      "execution_count": null,
      "outputs": []
    },
    {
      "cell_type": "code",
      "source": [
        "F1=metrics.f1_score(Y_test,Y_pred)\n",
        "F1"
      ],
      "metadata": {
        "id": "iWi19yRc01QC"
      },
      "execution_count": null,
      "outputs": []
    },
    {
      "cell_type": "code",
      "source": [
        "confusion_matrix(Y_test,Y_pred)"
      ],
      "metadata": {
        "id": "2N9i_QDP03On"
      },
      "execution_count": null,
      "outputs": []
    },
    {
      "cell_type": "code",
      "source": [
        "dec_tree2=tree.DecisionTreeClassifier(criterion='entropy')\n",
        "depth={'max_depth':[1,2,3,4,5,6,7,8,9,10]}\n",
        "grid_search=GridSearchCV(estimator=dec_tree2,param_grid=depth,scoring='precision',cv=5)\n",
        "grid_search.fit(X_train,Y_train)\n",
        "best_depth= grid_search.best_params_\n",
        "print(best_depth)"
      ],
      "metadata": {
        "id": "2Mx96IFc0v58"
      },
      "execution_count": null,
      "outputs": []
    },
    {
      "cell_type": "code",
      "source": [
        "dec_tree3=tree.DecisionTreeClassifier(criterion='entropy',max_depth=9)\n",
        "dec_tree3.fit(X_train,Y_train)\n",
        "Y_pred=dec_tree3.predict(X_test)"
      ],
      "metadata": {
        "id": "FETgJJCj089U"
      },
      "execution_count": null,
      "outputs": []
    },
    {
      "cell_type": "code",
      "source": [
        "Accuracy=accuracy_score(Y_test,Y_pred)\n",
        "Accuracy"
      ],
      "metadata": {
        "id": "Qca3zQK41LK_"
      },
      "execution_count": null,
      "outputs": []
    },
    {
      "cell_type": "code",
      "source": [
        "Precision=metrics.precision_score(Y_test,Y_pred)\n",
        "Precision"
      ],
      "metadata": {
        "id": "zo3GI7Ui1Nrl"
      },
      "execution_count": null,
      "outputs": []
    },
    {
      "cell_type": "code",
      "source": [
        "Recall=metrics.recall_score(Y_test,Y_pred)\n",
        "Recall"
      ],
      "metadata": {
        "id": "VTLtFrf21Q8L"
      },
      "execution_count": null,
      "outputs": []
    },
    {
      "cell_type": "code",
      "source": [
        "F1=metrics.f1_score(Y_test,Y_pred)\n",
        "F1"
      ],
      "metadata": {
        "id": "BTPcWgbe1SwV"
      },
      "execution_count": null,
      "outputs": []
    },
    {
      "cell_type": "code",
      "source": [
        "confusion_matrix(Y_test,Y_pred)"
      ],
      "metadata": {
        "id": "2Z8okz-41UqM"
      },
      "execution_count": null,
      "outputs": []
    },
    {
      "cell_type": "code",
      "source": [
        "Rf=ensemble.RandomForestClassifier(n_estimators=50,criterion='entropy',max_features=None,random_state=1)\n",
        "Rf.fit(X_train,Y_train)\n",
        "Y_pred=Rf.predict(X_test)"
      ],
      "metadata": {
        "id": "XOa7pWOG1XFh"
      },
      "execution_count": null,
      "outputs": []
    },
    {
      "cell_type": "code",
      "source": [
        "Accuracy=accuracy_score(Y_test,Y_pred)\n",
        "Accuracy"
      ],
      "metadata": {
        "id": "v3Qh9iqg2CEj"
      },
      "execution_count": null,
      "outputs": []
    },
    {
      "cell_type": "code",
      "source": [
        "Rf1=ensemble.RandomForestClassifier(n_estimators=50,criterion='entropy',max_features=None,random_state=1)\n",
        "ntrees={'n_estimators':[100,150,180,220,250,300,320,350]}\n",
        "grid_search=GridSearchCV(estimator=Rf1,param_grid=ntrees,scoring='precision',cv=5)\n",
        "grid_search.fit(X_train,Y_train)\n",
        "best_ntrees= grid_search.best_params_\n",
        "print(best_ntrees)"
      ],
      "metadata": {
        "id": "DC4aca9D2IYc"
      },
      "execution_count": null,
      "outputs": []
    },
    {
      "cell_type": "code",
      "source": [
        "Rf2=ensemble.RandomForestClassifier(n_estimators=100,criterion='entropy',max_features=None,random_state=1)\n",
        "Rf2.fit(X_train,Y_train)\n",
        "Y_pred=Rf2.predict(X_test)"
      ],
      "metadata": {
        "id": "kj54HoAh2ZGn"
      },
      "execution_count": null,
      "outputs": []
    },
    {
      "cell_type": "code",
      "source": [
        "Accuracy=accuracy_score(Y_test,Y_pred)\n",
        "Accuracy"
      ],
      "metadata": {
        "id": "FZJjH2Yu2chF"
      },
      "execution_count": null,
      "outputs": []
    }
  ]
}